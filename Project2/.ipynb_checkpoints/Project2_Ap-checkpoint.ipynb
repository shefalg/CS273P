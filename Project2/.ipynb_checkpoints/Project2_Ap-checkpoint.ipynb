{
 "cells": [
  {
   "cell_type": "code",
   "execution_count": 38,
   "metadata": {},
   "outputs": [],
   "source": [
    "import numpy as np\n",
    "import matplotlib.pyplot as plt\n",
    "import seaborn as sns\n",
    "%matplotlib inline\n",
    "import pandas as pd\n",
    "from collections import Counter\n",
    "\n",
    "from sklearn.ensemble import RandomForestClassifier, AdaBoostClassifier, GradientBoostingClassifier, ExtraTreesClassifier, VotingClassifier\n",
    "from sklearn.discriminant_analysis import LinearDiscriminantAnalysis\n",
    "from sklearn.linear_model import LogisticRegression\n",
    "from sklearn.neighbors import KNeighborsClassifier\n",
    "from sklearn.tree import DecisionTreeClassifier\n",
    "from sklearn.neural_network import MLPClassifier\n",
    "from sklearn.naive_bayes import GaussianNB\n",
    "from sklearn.ensemble import RandomForestClassifier\n",
    "from sklearn.model_selection import GridSearchCV, cross_val_score, StratifiedKFold, learning_curve, train_test_split, KFold\n",
    "from sklearn.metrics import classification_report\n",
    "from sklearn.metrics import confusion_matrix\n",
    "from sklearn.metrics import accuracy_score\n",
    "from sklearn import preprocessing\n",
    "from sklearn.preprocessing import MinMaxScaler\n",
    "from sklearn.metrics import roc_auc_score\n",
    "from sklearn.preprocessing import LabelEncoder\n",
    "from sklearn.feature_selection import SelectKBest\n",
    "from sklearn.feature_selection import chi2\n",
    "from sklearn.linear_model import LogisticRegression\n",
    "from sklearn.preprocessing import scale\n",
    "from sklearn.preprocessing import OneHotEncoder\n",
    "from sklearn import svm\n",
    "from sklearn.decomposition import PCA\n",
    "import warnings\n",
    "warnings.filterwarnings('ignore')\n",
    "min_max=MinMaxScaler()"
   ]
  },
  {
   "cell_type": "code",
   "execution_count": 39,
   "metadata": {},
   "outputs": [],
   "source": [
    "# For Kaggle Test to get final values\n",
    "from sklearn.neighbors import KNeighborsClassifier\n",
    "X=pd.read_csv('data/X_train.csv')\n",
    "y=pd.read_csv('data/Y_train.csv')\n",
    "kaggleTest =pd.read_csv('data/X_test.csv')\n",
    "\n",
    "X_traink, X_testk, Y_traink, Y_testk = train_test_split(\n",
    "    X, y, test_size=0.0, random_state=42)\n",
    "\n",
    "le=LabelEncoder()\n",
    "for col in X_testk.columns.values:\n",
    "    if X_testk[col].dtypes=='object':\n",
    "        data=X_traink[col].append(X_testk[col])\n",
    "        le.fit(data.values)\n",
    "        X_traink[col]=le.transform(X_traink[col])\n",
    "        X_testk[col]=le.transform(X_testk[col])\n",
    "\n",
    "for col in kaggleTest.columns.values:\n",
    "    if kaggleTest[col].dtypes=='object':\n",
    "        data=kaggleTest[col].append(X_testk[col])\n",
    "        le.fit(data.values)\n",
    "        kaggleTest[col]=le.transform(kaggleTest[col])\n"
   ]
  },
  {
   "cell_type": "code",
   "execution_count": 40,
   "metadata": {},
   "outputs": [
    {
     "data": {
      "text/html": [
       "<div>\n",
       "<style scoped>\n",
       "    .dataframe tbody tr th:only-of-type {\n",
       "        vertical-align: middle;\n",
       "    }\n",
       "\n",
       "    .dataframe tbody tr th {\n",
       "        vertical-align: top;\n",
       "    }\n",
       "\n",
       "    .dataframe thead th {\n",
       "        text-align: right;\n",
       "    }\n",
       "</style>\n",
       "<table border=\"1\" class=\"dataframe\">\n",
       "  <thead>\n",
       "    <tr style=\"text-align: right;\">\n",
       "      <th></th>\n",
       "      <th>age</th>\n",
       "      <th>workclass</th>\n",
       "      <th>education</th>\n",
       "      <th>education.num</th>\n",
       "      <th>marital.status</th>\n",
       "      <th>occupation</th>\n",
       "      <th>relationship</th>\n",
       "      <th>race</th>\n",
       "      <th>sex</th>\n",
       "      <th>capital.gain</th>\n",
       "      <th>capital.loss</th>\n",
       "      <th>hours.per.week</th>\n",
       "      <th>native.country</th>\n",
       "    </tr>\n",
       "  </thead>\n",
       "  <tbody>\n",
       "    <tr>\n",
       "      <th>7070</th>\n",
       "      <td>50</td>\n",
       "      <td>2</td>\n",
       "      <td>11</td>\n",
       "      <td>9</td>\n",
       "      <td>4</td>\n",
       "      <td>12</td>\n",
       "      <td>3</td>\n",
       "      <td>4</td>\n",
       "      <td>1</td>\n",
       "      <td>0</td>\n",
       "      <td>0</td>\n",
       "      <td>15</td>\n",
       "      <td>37</td>\n",
       "    </tr>\n",
       "    <tr>\n",
       "      <th>13010</th>\n",
       "      <td>59</td>\n",
       "      <td>1</td>\n",
       "      <td>12</td>\n",
       "      <td>14</td>\n",
       "      <td>6</td>\n",
       "      <td>9</td>\n",
       "      <td>4</td>\n",
       "      <td>4</td>\n",
       "      <td>0</td>\n",
       "      <td>4787</td>\n",
       "      <td>0</td>\n",
       "      <td>60</td>\n",
       "      <td>37</td>\n",
       "    </tr>\n",
       "    <tr>\n",
       "      <th>6688</th>\n",
       "      <td>43</td>\n",
       "      <td>2</td>\n",
       "      <td>7</td>\n",
       "      <td>12</td>\n",
       "      <td>0</td>\n",
       "      <td>2</td>\n",
       "      <td>1</td>\n",
       "      <td>4</td>\n",
       "      <td>1</td>\n",
       "      <td>0</td>\n",
       "      <td>0</td>\n",
       "      <td>40</td>\n",
       "      <td>37</td>\n",
       "    </tr>\n",
       "    <tr>\n",
       "      <th>9976</th>\n",
       "      <td>50</td>\n",
       "      <td>1</td>\n",
       "      <td>9</td>\n",
       "      <td>13</td>\n",
       "      <td>0</td>\n",
       "      <td>9</td>\n",
       "      <td>4</td>\n",
       "      <td>4</td>\n",
       "      <td>0</td>\n",
       "      <td>0</td>\n",
       "      <td>0</td>\n",
       "      <td>50</td>\n",
       "      <td>37</td>\n",
       "    </tr>\n",
       "    <tr>\n",
       "      <th>5175</th>\n",
       "      <td>18</td>\n",
       "      <td>2</td>\n",
       "      <td>1</td>\n",
       "      <td>7</td>\n",
       "      <td>4</td>\n",
       "      <td>0</td>\n",
       "      <td>3</td>\n",
       "      <td>2</td>\n",
       "      <td>1</td>\n",
       "      <td>0</td>\n",
       "      <td>0</td>\n",
       "      <td>20</td>\n",
       "      <td>37</td>\n",
       "    </tr>\n",
       "  </tbody>\n",
       "</table>\n",
       "</div>"
      ],
      "text/plain": [
       "       age  workclass  education  education.num  marital.status  occupation  \\\n",
       "7070    50          2         11              9               4          12   \n",
       "13010   59          1         12             14               6           9   \n",
       "6688    43          2          7             12               0           2   \n",
       "9976    50          1          9             13               0           9   \n",
       "5175    18          2          1              7               4           0   \n",
       "\n",
       "       relationship  race  sex  capital.gain  capital.loss  hours.per.week  \\\n",
       "7070              3     4    1             0             0              15   \n",
       "13010             4     4    0          4787             0              60   \n",
       "6688              1     4    1             0             0              40   \n",
       "9976              4     4    0             0             0              50   \n",
       "5175              3     2    1             0             0              20   \n",
       "\n",
       "       native.country  \n",
       "7070               37  \n",
       "13010              37  \n",
       "6688               37  \n",
       "9976               37  \n",
       "5175               37  "
      ]
     },
     "execution_count": 40,
     "metadata": {},
     "output_type": "execute_result"
    },
    {
     "data": {
      "image/png": "[encoded data removed]",
      "text/plain": [
       "<matplotlib.figure.Figure at 0x2743bca7278>"
      ]
     },
     "metadata": {},
     "output_type": "display_data"
    }
   ],
   "source": [
    "X=pd.read_csv('data/X_train.csv')\n",
    "y=pd.read_csv('data/Y_train.csv')\n",
    "\n",
    "X_train, X_test, Y_train, Y_test = train_test_split(\n",
    "    X, y, test_size=0.33, random_state=42)\n",
    "\n",
    "le=LabelEncoder()\n",
    "for col in X_test.columns.values:\n",
    "    if X_test[col].dtypes=='object':\n",
    "        data=X_train[col].append(X_test[col])\n",
    "        le.fit(data.values)\n",
    "        X_train[col]=le.transform(X_train[col])\n",
    "        X_test[col]=le.transform(X_test[col])\n",
    "\n",
    "X_train[X_train.dtypes[(X_train.dtypes==\"float64\")|(X_train.dtypes==\"int64\")]\n",
    "                        .index.values].hist(figsize=[11,11])\n",
    "        \n",
    "X_train.head()"
   ]
  },
  {
   "cell_type": "markdown",
   "metadata": {},
   "source": [
    "## PCA"
   ]
  },
  {
   "cell_type": "code",
   "execution_count": 11,
   "metadata": {},
   "outputs": [
    {
     "name": "stdout",
     "output_type": "stream",
     "text": [
      "[ 99.69 100.   100.   100.   100.   100.   100.   100.   100.   100.\n",
      " 100.   100.   100.  ]\n"
     ]
    },
    {
     "data": {
      "text/plain": [
       "[<matplotlib.lines.Line2D at 0x274438c1b38>]"
      ]
     },
     "execution_count": 11,
     "metadata": {},
     "output_type": "execute_result"
    },
    {
     "data": {
      "image/png": "[encoded data removed]",
      "text/plain": [
       "<matplotlib.figure.Figure at 0x2744387bf98>"
      ]
     },
     "metadata": {},
     "output_type": "display_data"
    }
   ],
   "source": [
    "pca = PCA(n_components=13)\n",
    "pca.fit(X_train)\n",
    "#The amount of variance that each PC explains\n",
    "var= pca.explained_variance_ratio_\n",
    "#Cumulative Variance explains\n",
    "var1=np.cumsum(np.round(pca.explained_variance_ratio_, decimals=4)*100)\n",
    "print(var1)\n",
    "plt.plot(var1)\n",
    "\n",
    "# https://www.analyticsvidhya.com/blog/2016/03/practical-guide-principal-component-analysis-python/"
   ]
  },
  {
   "cell_type": "code",
   "execution_count": 12,
   "metadata": {},
   "outputs": [
    {
     "name": "stdout",
     "output_type": "stream",
     "text": [
      "Feature  0 age\n",
      "Feature  1 workclass\n",
      "Feature  2 education\n",
      "Feature  3 education.num\n",
      "Feature  4 marital.status\n",
      "Feature  5 occupation\n",
      "Feature  6 relationship\n",
      "Feature  7 race\n",
      "Feature  8 sex\n",
      "Feature  9 capital.gain\n",
      "Feature  10 capital.loss\n",
      "Feature  11 hours.per.week\n",
      "Feature  12 native.country\n"
     ]
    }
   ],
   "source": [
    "coltoindex = ['age','workclass','education','education.num','marital.status','occupation','relationship','race','sex','capital.gain','capital.loss','hours.per.week','native.country']\n",
    "# columns = ['age','relationship','capital.gain','capital.loss','hours.per.week','workclass']\n",
    "\n",
    "for col in range(13):\n",
    "    print(\"Feature \",col,str(coltoindex[col]))"
   ]
  },
  {
   "cell_type": "markdown",
   "metadata": {},
   "source": [
    "## Feature Importance and selection"
   ]
  },
  {
   "cell_type": "code",
   "execution_count": 13,
   "metadata": {},
   "outputs": [
    {
     "name": "stdout",
     "output_type": "stream",
     "text": [
      "Automatically created module for IPython interactive environment\n",
      "Feature ranking:\n",
      "1. feature 0 (0.218312) - age\n",
      "2. feature 11 (0.123009) - workclass\n",
      "3. feature 6 (0.099935) - education\n",
      "4. feature 3 (0.097162) - education.num\n",
      "5. feature 9 (0.095241) - marital.status\n",
      "6. feature 5 (0.094653) - occupation\n",
      "7. feature 4 (0.077462) - relationship\n",
      "8. feature 1 (0.053433) - race\n",
      "9. feature 2 (0.040435) - sex\n",
      "10. feature 8 (0.032899) - capital.gain\n",
      "11. feature 10 (0.032521) - capital.loss\n",
      "12. feature 12 (0.017995) - hours.per.week\n",
      "13. feature 7 (0.016942) - native.country\n"
     ]
    },
    {
     "data": {
      "image/png": "[encoded data removed]",
      "text/plain": [
       "<matplotlib.figure.Figure at 0x27443988b70>"
      ]
     },
     "metadata": {},
     "output_type": "display_data"
    }
   ],
   "source": [
    "\n",
    "print(__doc__)\n",
    "\n",
    "import numpy as np\n",
    "import matplotlib.pyplot as plt\n",
    "\n",
    "    from sklearn.datasets import make_classification\n",
    "from sklearn.ensemble import ExtraTreesClassifier\n",
    "        \n",
    "# Build a forest and compute the feature importances\n",
    "forest = ExtraTreesClassifier(n_estimators=250,\n",
    "                              random_state=0)\n",
    "\n",
    "forest.fit(X_traink,Y_traink )\n",
    "importances = forest.feature_importances_\n",
    "std = np.std([tree.feature_importances_ for tree in forest.estimators_],\n",
    "             axis=0)\n",
    "indices = np.argsort(importances)[::-1]\n",
    "\n",
    "# Print the feature ranking\n",
    "print(\"Feature ranking:\")\n",
    "\n",
    "for f in range(X_traink.shape[1]):\n",
    "    print(\"%d. feature %d (%f) - %s\" % (f + 1, indices[f], importances[indices[f]], coltoindex[f]))\n",
    "\n",
    "# Plot the feature importances of the forest\n",
    "plt.figure()\n",
    "plt.title(\"Feature importances\")\n",
    "plt.bar(range(X_traink.shape[1]), importances[indices],\n",
    "       color=\"g\", yerr=std[indices], align=\"center\")\n",
    "plt.xticks(range(X_traink.shape[1]), indices)\n",
    "plt.xlim([-1, X_traink.shape[1]])\n",
    "plt.show()\n",
    "\n",
    "# Choosing top 7 features\n",
    "columns = [coltoindex[0],coltoindex[11],coltoindex[6],coltoindex[3],coltoindex[9],coltoindex[5],coltoindex[4]]"
   ]
  },
  {
   "cell_type": "code",
   "execution_count": 14,
   "metadata": {},
   "outputs": [],
   "source": [
    "#Check the top featues - Dont Run\n",
    "#X_train = SelectKBest(chi2,k=2).fit_transform(X_train,Y_train)\n",
    "#X_train\n",
    "# columns = ['age','relationship','capital.gain','capital.loss','hours.per.week']\n",
    "#X_train.age.value_counts()/X_train.age.count()"
   ]
  },
  {
   "cell_type": "markdown",
   "metadata": {},
   "source": [
    "## LogisticRegression"
   ]
  },
  {
   "cell_type": "code",
   "execution_count": 15,
   "metadata": {},
   "outputs": [
    {
     "name": "stdout",
     "output_type": "stream",
     "text": [
      "ROC 0.7016464756515863\n"
     ]
    }
   ],
   "source": [
    "# instantiate model\n",
    "# instantiate model\n",
    "X_train_scale=scale(X_train)\n",
    "X_test_scale=scale(X_test)\n",
    "logreg = LogisticRegression(penalty='l2',C=.01)\n",
    "\n",
    "# fit model\n",
    "logreg.fit(X_train_scale, Y_train)\n",
    "\n",
    "y_pred_class = logreg.predict(X_test_scale)\n",
    "print(\"ROC\",roc_auc_score(Y_test, y_pred_class))\n",
    "\n",
    "# examine the class distribution of the testing set (using a Pandas Series method)\n",
    "#y_test.value_counts()\n",
    "# X_train[\"age\"].value_counts().head(3)\n",
    "#y_test.mean()"
   ]
  },
  {
   "cell_type": "markdown",
   "metadata": {},
   "source": [
    "## One-Hot Encoding"
   ]
  },
  {
   "cell_type": "code",
   "execution_count": 16,
   "metadata": {},
   "outputs": [],
   "source": [
    "enc=OneHotEncoder(sparse=False)\n",
    "X_train_1 = X_train\n",
    "X_test_1 = X_test\n",
    "\n",
    "for col in columns:\n",
    "    data=X_train[[col]].append(X_test[[col]])\n",
    "    enc.fit(data)\n",
    "    # Fitting One Hot Encoding on train data\n",
    "    temp = enc.transform(X_train[[col]])\n",
    "    # Changing the encoded features into a data frame with new column names\n",
    "    temp=pd.DataFrame(temp,columns=[(col+\"_\"+str(i)) for i in data[col]\n",
    "            .value_counts().index])\n",
    "    # In side by side concatenation index values should be same\n",
    "    # Setting the index values similar to the X_train data frame\n",
    "    temp=temp.set_index(X_train.index.values)\n",
    "    # adding the new One Hot Encoded varibales to the train data frame\n",
    "    X_train_1=pd.concat([X_train_1,temp],axis=1)\n",
    "    # fitting One Hot Encoding on test data\n",
    "    temp = enc.transform(X_test[[col]])\n",
    "    # changing it into data frame and adding column names\n",
    "    temp=pd.DataFrame(temp,columns=[(col+\"_\"+str(i)) for i in data[col]\n",
    "            .value_counts().index])\n",
    "    # Setting the index for proper concatenation\n",
    "    temp=temp.set_index(X_test.index.values)\n",
    "    # adding the new One Hot Encoded varibales to test data frame\n",
    "    X_test_1=pd.concat([X_test_1,temp],axis=1)"
   ]
  },
  {
   "cell_type": "code",
   "execution_count": 17,
   "metadata": {},
   "outputs": [
    {
     "data": {
      "text/plain": [
       "0.7843448378447068"
      ]
     },
     "execution_count": 17,
     "metadata": {},
     "output_type": "execute_result"
    }
   ],
   "source": [
    "X_train_scale=scale(X_train_1)\n",
    "X_test_scale=scale(X_test_1)\n",
    "log=LogisticRegression(penalty='l2',C=1)\n",
    "log.fit(X_train_scale,Y_train)\n",
    "roc_auc_score(Y_test,log.predict(X_test_scale))"
   ]
  },
  {
   "cell_type": "code",
   "execution_count": 18,
   "metadata": {},
   "outputs": [],
   "source": [
    "#ForKaggle\n",
    "enc=OneHotEncoder(sparse=False)\n",
    "X_train_1 = X_traink\n",
    "X_test_1 = kaggleTest\n",
    "\n",
    "for col in columns:\n",
    "    data=X_traink[[col]].append(kaggleTest[[col]])\n",
    "    enc.fit(data)\n",
    "    # Fitting One Hot Encoding on train data\n",
    "    temp = enc.transform(X_traink[[col]])\n",
    "    # Changing the encoded features into a data frame with new column names\n",
    "    temp=pd.DataFrame(temp,columns=[(col+\"_\"+str(i)) for i in data[col]\n",
    "            .value_counts().index])\n",
    "    # In side by side concatenation index values should be same\n",
    "    # Setting the index values similar to the X_train data frame\n",
    "    temp=temp.set_index(X_traink.index.values)\n",
    "    # adding the new One Hot Encoded varibales to the train data frame\n",
    "    X_train_1=pd.concat([X_train_1,temp],axis=1)\n",
    "    # fitting One Hot Encoding on test data\n",
    "    temp = enc.transform(kaggleTest[[col]])\n",
    "    # changing it into data frame and adding column names\n",
    "    temp=pd.DataFrame(temp,columns=[(col+\"_\"+str(i)) for i in data[col]\n",
    "             .value_counts().index])\n",
    "    # Setting the index for proper concatenation\n",
    "    temp=temp.set_index(kaggleTest.index.values)\n",
    "    # adding the new One Hot Encoded varibales to test data frame\n",
    "    X_test_1=pd.concat([X_test_1,temp],axis=1)\n",
    "    \n",
    "X_train_scale=scale(X_train_1)\n",
    "X_test_scale=scale(X_test_1)\n",
    "log=LogisticRegression(penalty='l2',C=1)\n",
    "log.fit(X_train_scale,Y_traink)\n",
    "y_pred = log.predict(X_test_scale)\n",
    "\n",
    "\n",
    "# Now output a file with the predictions on test data:\n",
    "np.savetxt('LR-HE.csv',\n",
    "  np.vstack((np.arange(len(y_pred)), y_pred)).T,\n",
    "  '%d, %f',header='ID,Prob1',comments='',delimiter=',');\n",
    "\n",
    "\n",
    "#https://www.analyticsvidhya.com/blog/2016/07/practical-guide-data-preprocessing-python-scikit-learn/"
   ]
  },
  {
   "cell_type": "markdown",
   "metadata": {},
   "source": [
    "### Knn"
   ]
  },
  {
   "cell_type": "code",
   "execution_count": 42,
   "metadata": {},
   "outputs": [
    {
     "name": "stdout",
     "output_type": "stream",
     "text": [
      "ROC max index K= 48 Score 0.5900165790266939\n"
     ]
    }
   ],
   "source": [
    "\n",
    "k_range = np.arange(1, 50)\n",
    "scores = []\n",
    "scoresroc = []\n",
    "for k in k_range:\n",
    "    knn = KNeighborsClassifier(n_neighbors=k)\n",
    "    knn.fit(X_train[columns], Y_train)\n",
    "    y_pred = knn.predict(X_test[columns])\n",
    "    #scores.append(metrics.accuracy_score(Y_test, y_pred))\n",
    "    scoresroc.append(roc_auc_score(Y_test, y_pred))\n",
    "    \n",
    "#print(\"K=\",scores.index(max(scores)), \"Score\",max(scores))\n",
    "print(\"ROC max index K=\",scoresroc.index(max(scoresroc)), \"Score\",max(scoresroc))"
   ]
  },
  {
   "cell_type": "code",
   "execution_count": 20,
   "metadata": {},
   "outputs": [
    {
     "name": "stdout",
     "output_type": "stream",
     "text": [
      "ROC max index K= 0.7456264566984981\n"
     ]
    }
   ],
   "source": [
    "#To get final values before kaggle\n",
    "knn = KNeighborsClassifier(n_neighbors=5)\n",
    "knn.fit(X_train[columns],Y_train)\n",
    "y_pred = knn.predict(X_test[columns])\n",
    "\n",
    "print(\"ROC max index K=\",roc_auc_score(Y_test, y_pred))"
   ]
  },
  {
   "cell_type": "code",
   "execution_count": 21,
   "metadata": {},
   "outputs": [
    {
     "name": "stdout",
     "output_type": "stream",
     "text": [
      "             precision    recall  f1-score   support\n",
      "\n",
      "          0       0.87      0.89      0.88      4964\n",
      "          1       0.65      0.60      0.62      1636\n",
      "\n",
      "avg / total       0.82      0.82      0.82      6600\n",
      "\n"
     ]
    }
   ],
   "source": [
    "print(classification_report(Y_test, y_pred))"
   ]
  },
  {
   "cell_type": "code",
   "execution_count": 22,
   "metadata": {},
   "outputs": [
    {
     "data": {
      "text/plain": [
       "0.732602611664621"
      ]
     },
     "execution_count": 22,
     "metadata": {},
     "output_type": "execute_result"
    }
   ],
   "source": [
    "X_train_minmax=min_max.fit_transform(X_train[columns])\n",
    "X_test_minmax=min_max.fit_transform(X_test[columns])\n",
    "knn=KNeighborsClassifier(n_neighbors=3)\n",
    "knn.fit(X_train_minmax,Y_train)\n",
    "roc_auc_score(Y_test,knn.predict(X_test_minmax))\n"
   ]
  },
  {
   "cell_type": "code",
   "execution_count": 23,
   "metadata": {},
   "outputs": [],
   "source": [
    "knn = KNeighborsClassifier(n_neighbors=3)\n",
    "knn.fit(X_traink[columns],Y_traink)\n",
    "y_pred = knn.predict(kaggleTest[columns])\n",
    "\n",
    "# Now output a file with the predictions on test data:\n",
    "np.savetxt('knn.csv',\n",
    "  np.vstack((np.arange(len(y_pred)), y_pred)).T,\n",
    "  '%d, %f',header='ID,Prob1',comments='',delimiter=',');\n",
    "\n",
    "\n",
    "#https://www.analyticsvidhya.com/blog/2016/07/practical-guide-data-preprocessing-python-scikit-learn/"
   ]
  },
  {
   "cell_type": "markdown",
   "metadata": {},
   "source": [
    "## DecisionTreeClassifier"
   ]
  },
  {
   "cell_type": "code",
   "execution_count": 24,
   "metadata": {},
   "outputs": [
    {
     "name": "stdout",
     "output_type": "stream",
     "text": [
      "max depth = 8 ROC 0.7730256871479543\n"
     ]
    }
   ],
   "source": [
    "#MAxdepth\n",
    "k_range = np.arange(1, 100)\n",
    "scores = []\n",
    "scoresroc = []\n",
    "for k in k_range:\n",
    "    dtc = DecisionTreeClassifier(max_depth=k)\n",
    "    dtc.fit(X_train[columns], Y_train)\n",
    "    y_pred = dtc.predict(X_test[columns])\n",
    "    #scores.append(metrics.accuracy_score(Y_test, y_pred))\n",
    "    scoresroc.append(roc_auc_score(Y_test, y_pred))\n",
    "    \n",
    "#print(\"K=\",scores.index(max(scores)), \"Score\",max(scores))\n",
    "print(\"max depth =\",scoresroc.index(max(scoresroc)), \"ROC\",max(scoresroc))"
   ]
  },
  {
   "cell_type": "code",
   "execution_count": 25,
   "metadata": {},
   "outputs": [
    {
     "name": "stdout",
     "output_type": "stream",
     "text": [
      "minLeaf = 2 ROC 0.7762557898532022\n"
     ]
    }
   ],
   "source": [
    "#MinLeaf\n",
    "k_range = np.arange(1, 100)\n",
    "scores = []\n",
    "scoresroc = []\n",
    "for k in range(2,13):\n",
    "    dtc = DecisionTreeClassifier(max_depth=9,min_samples_leaf=pow(2,k))\n",
    "    dtc.fit(X_train[columns], Y_train)\n",
    "    y_pred = dtc.predict(X_test[columns])\n",
    "    #scores.append(metrics.accuracy_score(Y_test, y_pred))\n",
    "    scoresroc.append(roc_auc_score(Y_test, y_pred))\n",
    "    \n",
    "#print(\"K=\",scores.index(max(scores)), \"Score\",max(scores))\n",
    "print(\"minLeaf =\",scoresroc.index(max(scoresroc)), \"ROC\",max(scoresroc))"
   ]
  },
  {
   "cell_type": "code",
   "execution_count": 26,
   "metadata": {},
   "outputs": [
    {
     "data": {
      "text/plain": [
       "0.775241642023055"
      ]
     },
     "execution_count": 26,
     "metadata": {},
     "output_type": "execute_result"
    }
   ],
   "source": [
    "dtc = DecisionTreeClassifier(max_depth=9,min_samples_leaf=8)\n",
    "dtc.fit(X_train[columns], Y_train)\n",
    "y_pred = dtc.predict(X_test[columns])\n",
    "roc_auc_score(Y_test, y_pred)"
   ]
  },
  {
   "cell_type": "code",
   "execution_count": 27,
   "metadata": {},
   "outputs": [],
   "source": [
    "dtc = DecisionTreeClassifier(max_depth=9,min_samples_leaf=8)\n",
    "dtc.fit(X_traink[columns], Y_traink)\n",
    "y_pred = dtc.predict(kaggleTest[columns])\n",
    "\n",
    "# Now output a file with the predictions on test data:\n",
    "np.savetxt('DecisionTreeClassifier.csv',\n",
    "  np.vstack((np.arange(len(y_pred)), y_pred)).T,\n",
    "  '%d, %f',header='ID,Prob1',comments='',delimiter=',');\n",
    "\n",
    "\n",
    "#https://www.analyticsvidhya.com/blog/2016/07/practical-guide-data-preprocessing-python-scikit-learn/"
   ]
  },
  {
   "cell_type": "markdown",
   "metadata": {},
   "source": [
    "## Random Forests"
   ]
  },
  {
   "cell_type": "code",
   "execution_count": 28,
   "metadata": {},
   "outputs": [
    {
     "name": "stdout",
     "output_type": "stream",
     "text": [
      "max depth = 0 ROC 0.7725572779267449\n"
     ]
    }
   ],
   "source": [
    "from sklearn.ensemble import RandomForestClassifier\n",
    "k_range = np.arange(1, 50)\n",
    "scores = []\n",
    "scoresroc = []\n",
    "for k in k_range:\n",
    "    rf =   RandomForestClassifier(max_depth=15,min_samples_leaf=k,n_estimators=33,bootstrap =True )\n",
    "    rf.fit(X_train[columns], Y_train)\n",
    "    y_pred = rf.predict(X_test[columns])\n",
    "    scoresroc.append(roc_auc_score(Y_test, y_pred))\n",
    "    \n",
    "#print(\"K=\",scores.index(max(scores)), \"Score\",max(scores))\n",
    "print(\"max depth =\",scoresroc.index(max(scoresroc)), \"ROC\",max(scoresroc))"
   ]
  },
  {
   "cell_type": "code",
   "execution_count": 29,
   "metadata": {},
   "outputs": [
    {
     "name": "stdout",
     "output_type": "stream",
     "text": [
      "ROC  0.7702026719519909\n"
     ]
    }
   ],
   "source": [
    "rf =   RandomForestClassifier(max_depth=15,n_estimators=33,bootstrap =True)\n",
    "rf.fit(X_train[columns], Y_train)\n",
    "y_pred = rf.predict(X_test[columns])\n",
    "print(\"ROC \",roc_auc_score(Y_test, y_pred))"
   ]
  },
  {
   "cell_type": "code",
   "execution_count": 30,
   "metadata": {},
   "outputs": [],
   "source": [
    "\n",
    "# max_depth=13,n_estimators=33,max_features=4,min_samples_leaf=3,bootstrap =True Kaggle: 0.78640\n",
    "\n",
    "rf = RandomForestClassifier(max_depth=13,n_estimators=33,max_features=4,min_samples_leaf=3,bootstrap =True)\n",
    "rf.fit(X_traink, Y_traink)\n",
    "y_pred = rf.predict(kaggleTest)\n",
    "\n",
    "# Now output a file with the predictions on test data:\n",
    "np.savetxt('rf.csv',\n",
    "  np.vstack((np.arange(len(y_pred)), y_pred)).T,\n",
    "  '%d, %f',header='ID,Prob1',comments='',delimiter=',');"
   ]
  },
  {
   "cell_type": "markdown",
   "metadata": {},
   "source": [
    "## Ada Boost Classifiers"
   ]
  },
  {
   "cell_type": "code",
   "execution_count": 31,
   "metadata": {},
   "outputs": [
    {
     "name": "stdout",
     "output_type": "stream",
     "text": [
      "max depth = 48 ROC 0.7607359787536275\n"
     ]
    }
   ],
   "source": [
    "from sklearn.ensemble import AdaBoostClassifier\n",
    "k_range = np.arange(1, 50)\n",
    "scores = []\n",
    "scoresroc = []\n",
    "for k in k_range:\n",
    "    ada =   AdaBoostClassifier(n_estimators=k)\n",
    "    ada.fit(X_train[columns], Y_train)\n",
    "    y_pred = ada.predict(X_test[columns])\n",
    "    scoresroc.append(roc_auc_score(Y_test, y_pred))\n",
    "    \n",
    "#print(\"K=\",scores.index(max(scores)), \"Score\",max(scores))\n",
    "print(\"max depth =\",scoresroc.index(max(scoresroc)), \"ROC\",max(scoresroc))"
   ]
  },
  {
   "cell_type": "code",
   "execution_count": 32,
   "metadata": {},
   "outputs": [
    {
     "name": "stdout",
     "output_type": "stream",
     "text": [
      "0.7799446971741775\n"
     ]
    }
   ],
   "source": [
    "ada =   AdaBoostClassifier(n_estimators=850)\n",
    "ada.fit(X_train[columns], Y_train)\n",
    "y_pred = ada.predict(X_test[columns])\n",
    "print(roc_auc_score(Y_test, y_pred))"
   ]
  },
  {
   "cell_type": "code",
   "execution_count": 33,
   "metadata": {},
   "outputs": [],
   "source": [
    "# http://scikit-learn.org/stable/auto_examples/ensemble/plot_forest_iris.html#sphx-glr-auto-examples-ensemble-plot-forest-iris-py\n",
    "\n",
    "ada =   AdaBoostClassifier(n_estimators=48)\n",
    "ada.fit(X_train[columns], Y_train)\n",
    "y_pred = ada.predict(X_test[columns])\n",
    "\n",
    "# Now output a file with the predictions on test data:\n",
    "np.savetxt('ada.csv',\n",
    "  np.vstack((np.arange(len(y_pred)), y_pred)).T,\n",
    "  '%d, %f',header='ID,Prob1',comments='',delimiter=',');"
   ]
  },
  {
   "cell_type": "markdown",
   "metadata": {},
   "source": [
    "## SVM"
   ]
  },
  {
   "cell_type": "code",
   "execution_count": 34,
   "metadata": {},
   "outputs": [
    {
     "name": "stdout",
     "output_type": "stream",
     "text": [
      "0.697513293759075\n"
     ]
    }
   ],
   "source": [
    "clf = svm.SVC(kernel='rbf',gamma = 0.089)\n",
    "clf.fit(X_train[columns], Y_train)\n",
    "y_pred = clf.predict(X_test[columns])\n",
    "print(roc_auc_score(Y_test,y_pred))\n",
    "\n",
    "# http://scikit-learn.org/stable/modules/generated/sklearn.svm.SVC.html"
   ]
  },
  {
   "cell_type": "code",
   "execution_count": 35,
   "metadata": {},
   "outputs": [],
   "source": [
    "clf = svm.SVC(kernel='rbf',gamma = 0.1)\n",
    "clf.fit(X_traink[columns], Y_traink)\n",
    "y_pred = clf.predict(kaggleTest[columns])\n",
    "\n",
    "# Now output a file with the predictions on test data:\n",
    "np.savetxt('ada.csv',\n",
    "  np.vstack((np.arange(len(y_pred)), y_pred)).T,\n",
    "  '%d, %f',header='ID,Prob1',comments='',delimiter=',');"
   ]
  },
  {
   "cell_type": "markdown",
   "metadata": {},
   "source": [
    "## Neural networks"
   ]
  },
  {
   "cell_type": "code",
   "execution_count": 36,
   "metadata": {},
   "outputs": [
    {
     "name": "stderr",
     "output_type": "stream",
     "text": [
      "Using TensorFlow backend.\n"
     ]
    },
    {
     "name": "stdout",
     "output_type": "stream",
     "text": [
      "Epoch 1/5\n",
      "13400/13400 [==============================] - 3s 252us/step - loss: 4.0295 - acc: 0.7500\n",
      "Epoch 2/5\n",
      "13400/13400 [==============================] - 3s 229us/step - loss: 4.0295 - acc: 0.7500\n",
      "Epoch 3/5\n",
      "13400/13400 [==============================] - 3s 231us/step - loss: 4.0295 - acc: 0.7500\n",
      "Epoch 4/5\n",
      "13400/13400 [==============================] - 3s 226us/step - loss: 4.0295 - acc: 0.7500\n",
      "Epoch 5/5\n",
      "13400/13400 [==============================] - 3s 210us/step - loss: 4.0295 - acc: 0.7500\n",
      "13400/13400 [==============================] - 1s 43us/step\n",
      "\n",
      "acc: 75.00%\n",
      "ROC  0.23394540939261457\n"
     ]
    }
   ],
   "source": [
    "from keras.models import Sequential\n",
    "from keras.layers import Dense\n",
    "# create model\n",
    "model = Sequential()\n",
    "model.add(Dense(12, input_dim=13, activation='relu'))\n",
    "model.add(Dense(8, activation='relu'))\n",
    "model.add(Dense(1, activation='sigmoid'))\n",
    "# Compile model\n",
    "model.compile(loss='binary_crossentropy', optimizer='adam', metrics=['accuracy'])\n",
    "\n",
    "# Fit the model - should change epochs and batch_sizes\n",
    "model.fit(X_train, Y_train, epochs=5, batch_size=10)\n",
    "# evaluate the model\n",
    "scoresoflearn = model.evaluate(X_train, Y_train)\n",
    "print(\"\\n%s: %.2f%%\" % (model.metrics_names[1], scoresoflearn[1]*100))\n",
    "\n",
    "#Testing the model\n",
    "y_pred = model.predict(X_test, batch_size=10)\n",
    "print(\"ROC \",roc_auc_score(Y_test,y_pred))\n"
   ]
  },
  {
   "cell_type": "code",
   "execution_count": 37,
   "metadata": {},
   "outputs": [
    {
     "name": "stdout",
     "output_type": "stream",
     "text": [
      "Epoch 1/150\n",
      "20000/20000 [==============================] - 5s 258us/step - loss: 0.9569 - acc: 0.7668\n",
      "Epoch 2/150\n",
      "20000/20000 [==============================] - 4s 219us/step - loss: 0.9166 - acc: 0.7801\n",
      "Epoch 3/150\n",
      "20000/20000 [==============================] - 4s 220us/step - loss: 0.9054 - acc: 0.7869\n",
      "Epoch 4/150\n",
      "20000/20000 [==============================] - 5s 226us/step - loss: 0.8945 - acc: 0.7921\n",
      "Epoch 5/150\n",
      "20000/20000 [==============================] - 5s 231us/step - loss: 0.8810 - acc: 0.7961\n",
      "Epoch 6/150\n",
      "20000/20000 [==============================] - 4s 209us/step - loss: 1.1447 - acc: 0.7865\n",
      "Epoch 7/150\n",
      "20000/20000 [==============================] - 4s 211us/step - loss: 1.1792 - acc: 0.7896\n",
      "Epoch 8/150\n",
      "20000/20000 [==============================] - 4s 211us/step - loss: 1.1746 - acc: 0.7894\n",
      "Epoch 9/150\n",
      "20000/20000 [==============================] - 5s 232us/step - loss: 1.1727 - acc: 0.7928\n",
      "Epoch 10/150\n",
      "20000/20000 [==============================] - 4s 211us/step - loss: 1.1710 - acc: 0.7922\n",
      "Epoch 11/150\n",
      "20000/20000 [==============================] - 5s 244us/step - loss: 1.1703 - acc: 0.7933\n",
      "Epoch 12/150\n",
      "20000/20000 [==============================] - 5s 233us/step - loss: 1.1709 - acc: 0.7928\n",
      "Epoch 13/150\n",
      "20000/20000 [==============================] - 4s 210us/step - loss: 1.1710 - acc: 0.7926\n",
      "Epoch 14/150\n",
      "20000/20000 [==============================] - 4s 209us/step - loss: 1.1706 - acc: 0.7921\n",
      "Epoch 15/150\n",
      "20000/20000 [==============================] - 4s 208us/step - loss: 1.1702 - acc: 0.7918\n",
      "Epoch 16/150\n",
      "20000/20000 [==============================] - 5s 231us/step - loss: 1.1678 - acc: 0.7959\n",
      "Epoch 17/150\n",
      "20000/20000 [==============================] - 4s 209us/step - loss: 1.1688 - acc: 0.7937\n",
      "Epoch 18/150\n",
      "20000/20000 [==============================] - 4s 209us/step - loss: 1.1692 - acc: 0.7942\n",
      "Epoch 19/150\n",
      "20000/20000 [==============================] - 4s 212us/step - loss: 1.1671 - acc: 0.7931\n",
      "Epoch 20/150\n",
      "20000/20000 [==============================] - 5s 228us/step - loss: 1.1665 - acc: 0.7951\n",
      "Epoch 21/150\n",
      "20000/20000 [==============================] - 4s 209us/step - loss: 1.1667 - acc: 0.7960\n",
      "Epoch 22/150\n",
      "20000/20000 [==============================] - 4s 210us/step - loss: 1.1662 - acc: 0.7947\n",
      "Epoch 23/150\n",
      "20000/20000 [==============================] - 4s 225us/step - loss: 1.1652 - acc: 0.7954\n",
      "Epoch 24/150\n",
      "20000/20000 [==============================] - 4s 218us/step - loss: 1.1645 - acc: 0.7955\n",
      "Epoch 25/150\n",
      "20000/20000 [==============================] - 5s 228us/step - loss: 1.1653 - acc: 0.7956\n",
      "Epoch 26/150\n",
      "20000/20000 [==============================] - 5s 232us/step - loss: 1.1651 - acc: 0.7942\n",
      "Epoch 27/150\n",
      "20000/20000 [==============================] - 5s 239us/step - loss: 1.1648 - acc: 0.7938\n",
      "Epoch 28/150\n",
      "20000/20000 [==============================] - 4s 221us/step - loss: 1.1644 - acc: 0.7958\n",
      "Epoch 29/150\n",
      "20000/20000 [==============================] - 4s 217us/step - loss: 1.1648 - acc: 0.7955\n",
      "Epoch 30/150\n",
      "20000/20000 [==============================] - 5s 256us/step - loss: 1.1644 - acc: 0.7946\n",
      "Epoch 31/150\n",
      "20000/20000 [==============================] - 4s 218us/step - loss: 1.1640 - acc: 0.7967\n",
      "Epoch 32/150\n",
      "20000/20000 [==============================] - 5s 239us/step - loss: 1.1646 - acc: 0.7960\n",
      "Epoch 33/150\n",
      "20000/20000 [==============================] - 5s 229us/step - loss: 1.1633 - acc: 0.7965\n",
      "Epoch 34/150\n",
      "20000/20000 [==============================] - 5s 252us/step - loss: 1.1633 - acc: 0.7955\n",
      "Epoch 35/150\n",
      "20000/20000 [==============================] - 5s 228us/step - loss: 1.1635 - acc: 0.7960\n",
      "Epoch 36/150\n",
      "20000/20000 [==============================] - 4s 215us/step - loss: 1.1644 - acc: 0.7966\n",
      "Epoch 37/150\n",
      "20000/20000 [==============================] - 5s 229us/step - loss: 1.1641 - acc: 0.7970\n",
      "Epoch 38/150\n",
      "20000/20000 [==============================] - 4s 219us/step - loss: 1.1637 - acc: 0.7965\n",
      "Epoch 39/150\n",
      "20000/20000 [==============================] - 4s 216us/step - loss: 1.1634 - acc: 0.7961\n",
      "Epoch 40/150\n",
      "20000/20000 [==============================] - 4s 212us/step - loss: 1.1637 - acc: 0.7953\n",
      "Epoch 41/150\n",
      "20000/20000 [==============================] - 5s 229us/step - loss: 1.1628 - acc: 0.7952\n",
      "Epoch 42/150\n",
      "20000/20000 [==============================] - 4s 209us/step - loss: 1.1631 - acc: 0.7948\n",
      "Epoch 43/150\n",
      "20000/20000 [==============================] - 4s 210us/step - loss: 1.1629 - acc: 0.7971\n",
      "Epoch 44/150\n",
      "20000/20000 [==============================] - 4s 216us/step - loss: 1.1620 - acc: 0.7975\n",
      "Epoch 45/150\n",
      "20000/20000 [==============================] - 5s 254us/step - loss: 1.1621 - acc: 0.7958\n",
      "Epoch 46/150\n",
      "20000/20000 [==============================] - 5s 243us/step - loss: 1.1624 - acc: 0.7962\n",
      "Epoch 47/150\n",
      "20000/20000 [==============================] - 5s 243us/step - loss: 1.1625 - acc: 0.7962\n",
      "Epoch 48/150\n",
      "20000/20000 [==============================] - 5s 235us/step - loss: 1.1625 - acc: 0.7960\n",
      "Epoch 49/150\n",
      "20000/20000 [==============================] - 5s 226us/step - loss: 1.1624 - acc: 0.7952\n",
      "Epoch 50/150\n",
      "20000/20000 [==============================] - 4s 221us/step - loss: 1.1613 - acc: 0.7955\n",
      "Epoch 51/150\n",
      "20000/20000 [==============================] - 5s 239us/step - loss: 1.1606 - acc: 0.7983\n",
      "Epoch 52/150\n",
      "20000/20000 [==============================] - 5s 250us/step - loss: 1.1610 - acc: 0.7970\n",
      "Epoch 53/150\n",
      "20000/20000 [==============================] - 5s 234us/step - loss: 1.1603 - acc: 0.7968\n",
      "Epoch 54/150\n",
      "20000/20000 [==============================] - 5s 227us/step - loss: 1.1601 - acc: 0.7994\n",
      "Epoch 55/150\n",
      "20000/20000 [==============================] - 5s 238us/step - loss: 1.1612 - acc: 0.7969\n",
      "Epoch 56/150\n",
      "20000/20000 [==============================] - 5s 246us/step - loss: 1.1607 - acc: 0.7966\n",
      "Epoch 57/150\n",
      "20000/20000 [==============================] - 5s 243us/step - loss: 1.1601 - acc: 0.7969\n",
      "Epoch 58/150\n",
      "20000/20000 [==============================] - 5s 254us/step - loss: 1.1613 - acc: 0.7962\n",
      "Epoch 59/150\n",
      "20000/20000 [==============================] - 4s 222us/step - loss: 1.1600 - acc: 0.7966\n",
      "Epoch 60/150\n",
      "20000/20000 [==============================] - 5s 246us/step - loss: 1.1592 - acc: 0.7967\n",
      "Epoch 61/150\n",
      "20000/20000 [==============================] - 5s 257us/step - loss: 1.1592 - acc: 0.7997\n",
      "Epoch 62/150\n",
      "20000/20000 [==============================] - 5s 245us/step - loss: 1.1599 - acc: 0.7971\n",
      "Epoch 63/150\n",
      "20000/20000 [==============================] - 5s 231us/step - loss: 1.1594 - acc: 0.7968\n",
      "Epoch 64/150\n",
      "20000/20000 [==============================] - 4s 224us/step - loss: 1.1588 - acc: 0.7968\n",
      "Epoch 65/150\n",
      "20000/20000 [==============================] - 5s 247us/step - loss: 1.1591 - acc: 0.7977\n",
      "Epoch 66/150\n",
      "20000/20000 [==============================] - 5s 233us/step - loss: 1.1582 - acc: 0.7977\n",
      "Epoch 67/150\n",
      "20000/20000 [==============================] - 5s 230us/step - loss: 1.1581 - acc: 0.7965\n",
      "Epoch 68/150\n",
      "20000/20000 [==============================] - 5s 249us/step - loss: 1.1584 - acc: 0.7966\n",
      "Epoch 69/150\n",
      "20000/20000 [==============================] - 5s 228us/step - loss: 1.1578 - acc: 0.7988\n",
      "Epoch 70/150\n",
      "20000/20000 [==============================] - 5s 251us/step - loss: 1.1580 - acc: 0.7981\n",
      "Epoch 71/150\n",
      "20000/20000 [==============================] - 5s 246us/step - loss: 1.1575 - acc: 0.7966\n",
      "Epoch 72/150\n",
      "20000/20000 [==============================] - 5s 232us/step - loss: 1.1566 - acc: 0.7995\n",
      "Epoch 73/150\n",
      "20000/20000 [==============================] - 4s 223us/step - loss: 1.1578 - acc: 0.7957\n",
      "Epoch 74/150\n",
      "20000/20000 [==============================] - 4s 224us/step - loss: 1.1573 - acc: 0.7949\n",
      "Epoch 75/150\n",
      "20000/20000 [==============================] - 5s 248us/step - loss: 1.1567 - acc: 0.7979\n",
      "Epoch 76/150\n",
      "20000/20000 [==============================] - 5s 241us/step - loss: 1.1565 - acc: 0.7977\n",
      "Epoch 77/150\n",
      "20000/20000 [==============================] - 5s 258us/step - loss: 1.1561 - acc: 0.7971\n",
      "Epoch 78/150\n",
      "20000/20000 [==============================] - 5s 244us/step - loss: 1.1555 - acc: 0.7988\n",
      "Epoch 79/150\n",
      "20000/20000 [==============================] - 5s 236us/step - loss: 1.1563 - acc: 0.7985\n",
      "Epoch 80/150\n",
      "20000/20000 [==============================] - 5s 241us/step - loss: 1.1557 - acc: 0.8007\n",
      "Epoch 81/150\n",
      "20000/20000 [==============================] - 5s 252us/step - loss: 1.1554 - acc: 0.7986\n",
      "Epoch 82/150\n",
      "20000/20000 [==============================] - 5s 246us/step - loss: 1.1559 - acc: 0.7991\n",
      "Epoch 83/150\n",
      "20000/20000 [==============================] - 5s 232us/step - loss: 1.1559 - acc: 0.7982\n",
      "Epoch 84/150\n",
      "20000/20000 [==============================] - 5s 240us/step - loss: 1.1544 - acc: 0.7960\n",
      "Epoch 85/150\n",
      "20000/20000 [==============================] - 5s 248us/step - loss: 1.1554 - acc: 0.7964\n",
      "Epoch 86/150\n",
      "20000/20000 [==============================] - 5s 235us/step - loss: 1.1546 - acc: 0.7984\n",
      "Epoch 87/150\n",
      "20000/20000 [==============================] - 5s 242us/step - loss: 1.1546 - acc: 0.7970\n",
      "Epoch 88/150\n",
      "20000/20000 [==============================] - 5s 252us/step - loss: 1.1543 - acc: 0.7965 0s - loss: 1.1541 -\n",
      "Epoch 89/150\n",
      "20000/20000 [==============================] - 5s 240us/step - loss: 1.1549 - acc: 0.7957\n",
      "Epoch 90/150\n",
      "20000/20000 [==============================] - 5s 230us/step - loss: 1.1546 - acc: 0.7990 0s - loss: 1.1498\n",
      "Epoch 91/150\n",
      "20000/20000 [==============================] - 5s 245us/step - loss: 1.1544 - acc: 0.7982\n",
      "Epoch 92/150\n",
      "20000/20000 [==============================] - 5s 233us/step - loss: 1.1537 - acc: 0.7973\n",
      "Epoch 93/150\n",
      "20000/20000 [==============================] - 5s 231us/step - loss: 1.1540 - acc: 0.7990 1s - loss: 1.1635 - acc: 0.801 - E\n",
      "Epoch 94/150\n",
      "20000/20000 [==============================] - 4s 223us/step - loss: 1.1548 - acc: 0.7968\n",
      "Epoch 95/150\n",
      "20000/20000 [==============================] - 5s 251us/step - loss: 1.1541 - acc: 0.7986\n",
      "Epoch 96/150\n",
      "20000/20000 [==============================] - 5s 252us/step - loss: 1.1545 - acc: 0.7976\n",
      "Epoch 97/150\n",
      "20000/20000 [==============================] - 5s 229us/step - loss: 1.1537 - acc: 0.7979\n",
      "Epoch 98/150\n",
      "20000/20000 [==============================] - 5s 229us/step - loss: 1.1543 - acc: 0.7978\n",
      "Epoch 99/150\n",
      "20000/20000 [==============================] - 5s 232us/step - loss: 1.1538 - acc: 0.7977\n",
      "Epoch 100/150\n",
      "20000/20000 [==============================] - 5s 240us/step - loss: 1.1545 - acc: 0.7987\n",
      "Epoch 101/150\n",
      "20000/20000 [==============================] - 5s 247us/step - loss: 1.1550 - acc: 0.7974\n",
      "Epoch 102/150\n",
      "20000/20000 [==============================] - 5s 253us/step - loss: 1.1534 - acc: 0.7993\n",
      "Epoch 103/150\n",
      "20000/20000 [==============================] - 5s 235us/step - loss: 1.1530 - acc: 0.7982\n",
      "Epoch 104/150\n",
      "20000/20000 [==============================] - 4s 218us/step - loss: 1.1544 - acc: 0.7981\n",
      "Epoch 105/150\n",
      "20000/20000 [==============================] - 5s 227us/step - loss: 1.1540 - acc: 0.7984\n",
      "Epoch 106/150\n",
      "20000/20000 [==============================] - 5s 228us/step - loss: 1.1542 - acc: 0.7985\n",
      "Epoch 107/150\n",
      "20000/20000 [==============================] - 5s 249us/step - loss: 1.1533 - acc: 0.7982\n",
      "Epoch 108/150\n",
      "20000/20000 [==============================] - 5s 249us/step - loss: 1.1536 - acc: 0.7982\n",
      "Epoch 109/150\n",
      "20000/20000 [==============================] - 5s 246us/step - loss: 1.1531 - acc: 0.7993\n",
      "Epoch 110/150\n",
      "20000/20000 [==============================] - 5s 241us/step - loss: 1.1535 - acc: 0.7980\n",
      "Epoch 111/150\n",
      "20000/20000 [==============================] - 5s 241us/step - loss: 1.1539 - acc: 0.7968\n",
      "Epoch 112/150\n",
      "20000/20000 [==============================] - 5s 247us/step - loss: 1.1532 - acc: 0.7986\n",
      "Epoch 113/150\n",
      "20000/20000 [==============================] - 5s 256us/step - loss: 1.1530 - acc: 0.7990\n",
      "Epoch 114/150\n",
      "20000/20000 [==============================] - 5s 256us/step - loss: 1.1532 - acc: 0.7972\n",
      "Epoch 115/150\n",
      "20000/20000 [==============================] - 5s 237us/step - loss: 1.1531 - acc: 0.7976\n",
      "Epoch 116/150\n",
      "20000/20000 [==============================] - 5s 267us/step - loss: 1.1527 - acc: 0.7994\n",
      "Epoch 117/150\n",
      "20000/20000 [==============================] - 5s 264us/step - loss: 1.1534 - acc: 0.7971\n",
      "Epoch 118/150\n",
      "20000/20000 [==============================] - 5s 238us/step - loss: 1.1527 - acc: 0.7988\n",
      "Epoch 119/150\n",
      "20000/20000 [==============================] - 4s 210us/step - loss: 1.1530 - acc: 0.7985\n",
      "Epoch 120/150\n",
      "20000/20000 [==============================] - 4s 209us/step - loss: 1.1528 - acc: 0.8000\n",
      "Epoch 121/150\n",
      "20000/20000 [==============================] - 4s 220us/step - loss: 1.1521 - acc: 0.7987\n",
      "Epoch 122/150\n",
      "20000/20000 [==============================] - 5s 227us/step - loss: 1.1528 - acc: 0.7992\n",
      "Epoch 123/150\n",
      "20000/20000 [==============================] - 4s 209us/step - loss: 1.1528 - acc: 0.7988\n",
      "Epoch 124/150\n",
      "20000/20000 [==============================] - 4s 212us/step - loss: 1.1530 - acc: 0.7970\n",
      "Epoch 125/150\n",
      "20000/20000 [==============================] - 5s 238us/step - loss: 1.1529 - acc: 0.7981\n",
      "Epoch 126/150\n",
      "20000/20000 [==============================] - 4s 208us/step - loss: 1.1527 - acc: 0.7983\n",
      "Epoch 127/150\n",
      "20000/20000 [==============================] - 4s 209us/step - loss: 1.1524 - acc: 0.7998\n",
      "Epoch 128/150\n",
      "20000/20000 [==============================] - 4s 212us/step - loss: 1.1525 - acc: 0.7983\n",
      "Epoch 129/150\n",
      "20000/20000 [==============================] - 5s 235us/step - loss: 1.1515 - acc: 0.7976\n",
      "Epoch 130/150\n",
      "20000/20000 [==============================] - 4s 217us/step - loss: 1.1521 - acc: 0.7985\n",
      "Epoch 131/150\n",
      "20000/20000 [==============================] - 5s 246us/step - loss: 1.1527 - acc: 0.7986\n",
      "Epoch 132/150\n",
      "20000/20000 [==============================] - 5s 234us/step - loss: 1.1517 - acc: 0.7980\n",
      "Epoch 133/150\n",
      "20000/20000 [==============================] - 5s 227us/step - loss: 1.1516 - acc: 0.7985\n",
      "Epoch 134/150\n",
      "20000/20000 [==============================] - 5s 237us/step - loss: 1.1524 - acc: 0.7983\n",
      "Epoch 135/150\n",
      "20000/20000 [==============================] - 5s 225us/step - loss: 1.1526 - acc: 0.7989\n",
      "Epoch 136/150\n",
      "20000/20000 [==============================] - 5s 229us/step - loss: 1.1514 - acc: 0.7999\n",
      "Epoch 137/150\n",
      "20000/20000 [==============================] - 4s 208us/step - loss: 1.1509 - acc: 0.7984\n",
      "Epoch 138/150\n",
      "20000/20000 [==============================] - 4s 209us/step - loss: 1.1520 - acc: 0.7977\n",
      "Epoch 139/150\n",
      "20000/20000 [==============================] - 5s 227us/step - loss: 1.1516 - acc: 0.7987\n",
      "Epoch 140/150\n",
      "20000/20000 [==============================] - 4s 219us/step - loss: 1.1510 - acc: 0.8006\n",
      "Epoch 141/150\n",
      "20000/20000 [==============================] - 4s 209us/step - loss: 1.1519 - acc: 0.7987\n",
      "Epoch 142/150\n",
      "20000/20000 [==============================] - 4s 209us/step - loss: 1.1512 - acc: 0.7999\n",
      "Epoch 143/150\n",
      "20000/20000 [==============================] - 5s 230us/step - loss: 1.1516 - acc: 0.7989\n",
      "Epoch 144/150\n",
      "20000/20000 [==============================] - 4s 211us/step - loss: 1.1506 - acc: 0.8001\n",
      "Epoch 145/150\n",
      "20000/20000 [==============================] - 4s 216us/step - loss: 1.1519 - acc: 0.7976\n",
      "Epoch 146/150\n",
      "20000/20000 [==============================] - 4s 222us/step - loss: 1.1518 - acc: 0.7981\n",
      "Epoch 147/150\n",
      "20000/20000 [==============================] - 5s 230us/step - loss: 1.1515 - acc: 0.7984\n",
      "Epoch 148/150\n",
      "20000/20000 [==============================] - 4s 208us/step - loss: 1.1506 - acc: 0.8006\n",
      "Epoch 149/150\n",
      "20000/20000 [==============================] - 4s 208us/step - loss: 1.1509 - acc: 0.7992\n",
      "Epoch 150/150\n",
      "20000/20000 [==============================] - 4s 218us/step - loss: 1.1515 - acc: 0.7993\n"
     ]
    }
   ],
   "source": [
    "from keras.models import Sequential\n",
    "from keras.layers import Dense\n",
    "# create model\n",
    "model = Sequential()\n",
    "model.add(Dense(12, input_dim=7, activation='relu'))\n",
    "model.add(Dense(8, activation='relu'))\n",
    "model.add(Dense(1, activation='sigmoid'))\n",
    "# Compile model\n",
    "model.compile(loss='binary_crossentropy', optimizer='adam', metrics=['accuracy'])\n",
    "\n",
    "model.fit(X_traink[columns], Y_traink, epochs=150, batch_size=10)\n",
    "\n",
    "y_pred = model.predict(kaggleTest[columns])\n",
    "\n",
    "rounded = [round(x[0]) for x in y_pred]\n",
    "np.savetxt('nn.csv',\n",
    "  np.vstack((np.arange(len(rounded)), rounded)).T,\n",
    "  '%d, %f',header='ID,Prob1',comments='',delimiter=',');\n",
    "\n",
    "# https://machinelearningmastery.com/tutorial-first-neural-network-python-keras/"
   ]
  }
 ],
 "metadata": {
  "kernelspec": {
   "display_name": "Python 3",
   "language": "python",
   "name": "python3"
  },
  "language_info": {
   "codemirror_mode": {
    "name": "ipython",
    "version": 3
   },
   "file_extension": ".py",
   "mimetype": "text/x-python",
   "name": "python",
   "nbconvert_exporter": "python",
   "pygments_lexer": "ipython3",
   "version": "3.6.4"
  }
 },
 "nbformat": 4,
 "nbformat_minor": 2
}
