{
 "cells": [
  {
   "cell_type": "code",
   "execution_count": 15,
   "metadata": {},
   "outputs": [],
   "source": [
    "import sklearn as sklearn\n",
    "import numpy as np\n",
    "import mltools as ml\n",
    "import matplotlib.pyplot as plt\n",
    "import xgboost as xgb\n",
    "\n",
    "import warnings\n",
    "warnings.filterwarnings('ignore')\n",
    "from sklearn.metrics import mean_squared_error\n",
    "from scipy.stats import randint as sp_randint\n",
    "np.random.seed(0)\n",
    "X=np.genfromtxt(\"X_train.txt\",delimiter=None)\n",
    "Y=np.genfromtxt(\"Y_train.txt\",delimiter=None)\n",
    "Xte=np.genfromtxt(\"X_test.txt\",delimiter=None)\n",
    "from sklearn.ensemble import GradientBoostingRegressor\n",
    "from sklearn.model_selection import RandomizedSearchCV\n",
    "from sklearn import ensemble\n",
    "import xgboost\n",
    "from xgboost import XGBRegressor\n",
    "import time"
   ]
  },
  {
   "cell_type": "code",
   "execution_count": 16,
   "metadata": {},
   "outputs": [
    {
     "name": "stdout",
     "output_type": "stream",
     "text": [
      "RandomizedSearchCV Results: \n",
      "0.05814745190798765\n",
      "Max depth= 2 MSE: %4f 3.5238719909314025\n",
      "colsample_bytree: 0.8\n",
      "eta: 0.4\n",
      "max_depth: 3\n",
      "num_boost_round: 50\n",
      "subsample: 0.9\n"
     ]
    }
   ],
   "source": [
    "\n",
    "Xtr = X[0:50000:]\n",
    "Ytr = Y[0:50000:]\n",
    "Xva = X[50000:100000:]\n",
    "Yva = Y[50000:100000:]\n",
    "print('RandomizedSearchCV Results: ')\n",
    "p=2\n",
    "mseV=[]\n",
    "pV=[]\n",
    "while p<3:\n",
    "    clf = xgboost.XGBRegressor(\n",
    "        eval_metric = 'rmse',\n",
    "        nthread = 4,\n",
    "        eta = 0.1,\n",
    "        num_boost_round = 400,\n",
    "        max_depth = 6,\n",
    "        subsample = 0.5,\n",
    "        colsample_bytree = 1.0,\n",
    "        silent = 1,\n",
    "        )\n",
    "    parameters = {\n",
    "        'num_boost_round': [10, 25, 50,100,200,300],\n",
    "        'eta': [0.05, 0.1, 0.3,0.4,0.5],\n",
    "        'max_depth': [3, 4, 5,6,8],\n",
    "        'subsample': [0.8,0.9, 1.0],\n",
    "        'colsample_bytree': [0.8,0.9, 1.0],\n",
    "    }\n",
    "    clf2 = RandomizedSearchCV(clf, parameters, n_jobs=1, cv=2)\n",
    "    start2 = time.time()\n",
    "    clf2.fit(Xtr, Ytr)\n",
    "    best_parameters, score, _ = max(clf2.grid_scores_, key=lambda x: x[1])\n",
    "    print(score)\n",
    "    YvaHat=clf2.predict(Xva)\n",
    "    mse=mean_squared_error(Yva,YvaHat)\n",
    "    mseV.append(mse)\n",
    "    pV.append(p)\n",
    "    print(\"Max depth= \"+ str(p)+\" MSE: %4f \"+ str(mse))\n",
    "    for param_name in sorted(best_parameters.keys()):\n",
    "        print(\"%s: %r\" % (param_name, best_parameters[param_name]))\n",
    "    end2 = time.time()\n",
    "    p+=2;\n",
    "#Yte= clf2.predict(Xte)\n"
   ]
  },
  {
   "cell_type": "code",
   "execution_count": null,
   "metadata": {},
   "outputs": [],
   "source": [
    "_,axis=plt.subplots() \n",
    "plt.title(\"Randomized SearchCV: Max depth vs error\")\n",
    "axis.plot(pV,mseV,c='green')\n",
    "plt.show()"
   ]
  },
  {
   "cell_type": "code",
   "execution_count": null,
   "metadata": {},
   "outputs": [],
   "source": [
    "np.savetxt('RandomizedSearchCVXGb.csv',\n",
    "np.vstack( (np.arange(len(Yte)) , Yte[:]) ).T,\n",
    "'%d, %.2f',header='ID,Prediction',comments='',delimiter=',');  "
   ]
  },
  {
   "cell_type": "code",
   "execution_count": null,
   "metadata": {},
   "outputs": [],
   "source": [
    "#Normal gradient boosting"
   ]
  },
  {
   "cell_type": "code",
   "execution_count": null,
   "metadata": {},
   "outputs": [],
   "source": [
    "Xtr = X[0:80000:]\n",
    "Ytr = Y[0:80000:]\n",
    "Xva = X[80000:100000:]\n",
    "Yva = Y[80000:100000:]\n",
    "\n",
    "est = GradientBoostingRegressor(alpha=0.9, criterion='friedman_mse', init=None,\n",
    "             learning_rate=0.01, loss='ls', max_depth=17, max_features=0.4,\n",
    "             max_leaf_nodes=None, min_impurity_decrease=0.1,\n",
    "             min_impurity_split=None, min_samples_leaf=8,\n",
    "             min_samples_split=2, min_weight_fraction_leaf=0.0,\n",
    "             n_estimators=300, presort='auto', random_state=10,\n",
    "             subsample=1.0, verbose=0, warm_start=False)\n",
    "est.fit(Xtr, Ytr)\n",
    "Yva_ = est.predict(Xva)\n",
    "mse = mean_squared_error(Yva_, Yva)\n",
    "print(\"MSE: %.6f\" % mse)"
   ]
  },
  {
   "cell_type": "code",
   "execution_count": 4,
   "metadata": {},
   "outputs": [
    {
     "name": "stdout",
     "output_type": "stream",
     "text": [
      "GridSearchCV Results: \n",
      "0.043236294448474766\n",
      "colsample_bytree: 1.0\n",
      "eta: 0.05\n",
      "max_depth: 3\n",
      "num_boost_round: 10\n",
      "subsample: 0.9\n",
      "time elapsed: 769.2141778469086\n",
      "MSE: %4f 3.86106999689837\n"
     ]
    }
   ],
   "source": [
    "#Grid search CV\n",
    "from sklearn.ensemble import GradientBoostingRegressor\n",
    "from sklearn.grid_search import GridSearchCV\n",
    "from sklearn import ensemble\n",
    "import xgboost\n",
    "from xgboost import XGBRegressor\n",
    "import time\n",
    "Xtr = X[0:80000:]\n",
    "Ytr = Y[0:80000:]\n",
    "Xva = X[80000:100000:]\n",
    "Yva = Y[80000:100000:]\n",
    "clf = xgboost.XGBRegressor(\n",
    "        eval_metric = 'rmse',\n",
    "        nthread = 4,\n",
    "        eta = 0.1,\n",
    "        num_boost_round = 80,\n",
    "        max_depth = 5,\n",
    "        subsample = 0.5,\n",
    "        colsample_bytree = 1.0,\n",
    "        silent = 1,\n",
    "        )\n",
    "parameters = {\n",
    "        'num_boost_round': [10, 25, 50],\n",
    "        'eta': [0.05, 0.1, 0.3],\n",
    "        'max_depth': [3, 4, 5],\n",
    "        'subsample': [0.9, 1.0],\n",
    "        'colsample_bytree': [0.9, 1.0],\n",
    "    }\n",
    "clf1 = GridSearchCV(clf, parameters, n_jobs=1, cv=2)\n",
    "start1 = time.time()\n",
    "clf1.fit(Xtr, Ytr)\n",
    "best_parameters, score, _ = max(clf1.grid_scores_, key=lambda x: x[1])\n",
    "print('GridSearchCV Results: ')\n",
    "print(score)\n",
    "for param_name in sorted(best_parameters.keys()):\n",
    "    print(\"%s: %r\" % (param_name, best_parameters[param_name]))\n",
    "end1 = time.time()\n",
    "print('time elapsed: ' + str(end1-start1))\n",
    "YvaHat = clf1.predict(Xva)\n",
    "mse=mean_squared_error(YvaHat,Yva)\n",
    "print(\"MSE: %4f \"+str(mse))"
   ]
  },
  {
   "cell_type": "code",
   "execution_count": null,
   "metadata": {},
   "outputs": [],
   "source": [
    "from sklearn.ensemble import GradientBoostingRegressor\n",
    "from sklearn.model_selection import RandomizedSearchCV\n",
    "from sklearn import ensemble\n",
    "import xgboost\n",
    "from xgboost import XGBRegressor\n",
    "import time\n",
    "Xtr = X[0:50000:]\n",
    "Ytr = Y[0:50000:]\n",
    "Xva = X[50000:100000:]\n",
    "Yva = Y[50000:100000:]\n",
    "print('RandomizedSearchCV Results: ')\n",
    "p=2\n",
    "mseV=[]\n",
    "pV=[]\n",
    "while p<3:\n",
    "    clf = xgboost.XGBRegressor(\n",
    "        eval_metric = 'rmse',\n",
    "        nthread = 4,\n",
    "        eta = 0.1,\n",
    "        num_boost_round = 400,\n",
    "        max_depth = 6,\n",
    "        subsample = 0.5,\n",
    "        colsample_bytree = 1.0,\n",
    "        silent = 1,\n",
    "        )\n",
    "    parameters = {\n",
    "        'num_boost_round': [10, 25, 50,100,200,300],\n",
    "        'eta': [0.05, 0.1, 0.3,0.4,0.5],\n",
    "        'max_depth': [3, 4, 5,6,8],\n",
    "        'subsample': [0.9, 1.0],\n",
    "        'colsample_bytree': [0.9, 1.0],\n",
    "    }\n",
    "    clf2 = RandomizedSearchCV(clf, parameters, n_jobs=1, cv=2)\n",
    "    start2 = time.time()\n",
    "    clf2.fit(Xtr, Ytr)\n",
    "    best_parameters, score, _ = max(clf2.grid_scores_, key=lambda x: x[1])\n",
    "    print(score)\n",
    "    YvaHat=clf2.predict(Xva)\n",
    "    mse=mean_squared_error(Yva,YvaHat)\n",
    "    mseV.append(mse)\n",
    "    pV.append(p)\n",
    "    print(\"Max depth= \"+ str(p)+\" MSE: %4f \"+ str(mse))\n",
    "    for param_name in sorted(best_parameters.keys()):\n",
    "        print(\"%s: %r\" % (param_name, best_parameters[param_name]))\n",
    "    end2 = time.time()\n",
    "    p+=2;\n",
    "#Yte= clf2.predict(Xte)\n"
   ]
  },
  {
   "cell_type": "code",
   "execution_count": 14,
   "metadata": {},
   "outputs": [
    {
     "name": "stdout",
     "output_type": "stream",
     "text": [
      "3.8660594347753694\n"
     ]
    }
   ],
   "source": [
    "Xtr = X[0:80000:]\n",
    "Ytr = Y[0:80000:]\n",
    "Xva = X[80000:100000:]\n",
    "Yva = Y[80000:100000:]\n",
    "learner = GradientBoostingRegressor(alpha=0.9, criterion='friedman_mse', init=None,\n",
    "             learning_rate=0.01, loss='ls', max_depth=4, max_features=0.4,\n",
    "             max_leaf_nodes=None, min_impurity_decrease=0.0,\n",
    "             min_impurity_split=None, min_samples_leaf=17,\n",
    "             min_samples_split=2, min_weight_fraction_leaf=0.0,\n",
    "             n_estimators=200, presort='auto', random_state=9,\n",
    "             subsample=1.0, verbose=0, warm_start=False)\n",
    "learner.fit(Xtr, Ytr)\n",
    "Y_ = learner.predict(Xva)\n",
    "mse = mean_squared_error(Y_, Yva)\n",
    "print(mse)"
   ]
  },
  {
   "cell_type": "code",
   "execution_count": 18,
   "metadata": {},
   "outputs": [],
   "source": [
    "Yte = learner.predict(Xte)\n",
    "fh = open('predictions20.csv','w') # open file for upload\n",
    "fh.write('ID,Prediction\\n') # output header line\n",
    "for i,yi in enumerate(Yte):\n",
    "    fh.write('{},{}\\n'.format(i,yi)) # output each prediction\n",
    "fh.close()"
   ]
  }
 ],
 "metadata": {
  "kernelspec": {
   "display_name": "Python 3",
   "language": "python",
   "name": "python3"
  },
  "language_info": {
   "codemirror_mode": {
    "name": "ipython",
    "version": 3
   },
   "file_extension": ".py",
   "mimetype": "text/x-python",
   "name": "python",
   "nbconvert_exporter": "python",
   "pygments_lexer": "ipython3",
   "version": "3.6.4"
  }
 },
 "nbformat": 4,
 "nbformat_minor": 2
}
